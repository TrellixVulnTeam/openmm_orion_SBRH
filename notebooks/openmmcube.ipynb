{
 "cells": [
  {
   "cell_type": "code",
   "execution_count": 1,
   "metadata": {
    "collapsed": false
   },
   "outputs": [],
   "source": [
    "from simtk import unit, openmm\n",
    "from simtk.openmm import app\n",
    "import numpy as np\n",
    "from openeye import oechem\n",
    "import os, smarty, parmed, openmoltools, pdbfixer \n",
    "from openmoltools import forcefield_generators"
   ]
  },
  {
   "cell_type": "code",
   "execution_count": 2,
   "metadata": {
    "collapsed": false
   },
   "outputs": [
    {
     "name": "stdout",
     "output_type": "stream",
     "text": [
      "<Structure 15 atoms; 1 residues; 15 bonds; parametrized>\n",
      "<Topology; 1 chains, 1 residues, 15 atoms, 15 bonds>\n"
     ]
    }
   ],
   "source": [
    "# Generate the SMIRNOFF ligand Structure object\n",
    "ifs = oechem.oemolistream('../OpenMMCubes/tests/input/toluene.pdb')\n",
    "mol = oechem.OEMol()\n",
    "flavor = oechem.OEIFlavor_Generic_Default | oechem.OEIFlavor_MOL2_Default | oechem.OEIFlavor_MOL2_Forcefield\n",
    "ifs.SetFlavor( oechem.OEFormat_MOL2, flavor)\n",
    "oechem.OEReadMolecule(ifs, mol )\n",
    "oechem.OETriposAtomNames(mol)\n",
    "\n",
    "from smarty.forcefield import ForceField\n",
    "mol_ff = ForceField('../OpenMMCubes/tests/input/forcefield/smirff99Frosst.ffxml')\n",
    "mol_top, mol_sys, mol_pos = smarty.forcefield_utils.create_system_from_molecule(mol_ff, mol)\n",
    "molecule_structure = parmed.openmm.load_topology(mol_top, mol_sys) \n",
    "molecule_structure.residues[0].name = \"MOL\"\n",
    "\n",
    "print(molecule_structure)\n",
    "print(molecule_structure.topology)"
   ]
  },
  {
   "cell_type": "code",
   "execution_count": 3,
   "metadata": {
    "collapsed": false
   },
   "outputs": [
    {
     "name": "stdout",
     "output_type": "stream",
     "text": [
      "<Structure 2634 atoms; 164 residues; 2654 bonds; parametrized>\n",
      "<Topology; 1 chains, 164 residues, 2634 atoms, 2654 bonds>\n"
     ]
    }
   ],
   "source": [
    "# Generate protein Stucture object\n",
    "pdbfilename = os.path.join('..','OpenMMCubes', 'tests', 'input', 'T4-protein.pdb')\n",
    "pdbfile = app.PDBFile(pdbfilename)\n",
    "forcefield = app.ForceField('amber99sbildn.xml', 'tip3p.xml')\n",
    "system = forcefield.createSystem( pdbfile.topology )\n",
    "protein_structure = parmed.openmm.load_topology( pdbfile.topology, system)\n",
    "\n",
    "print(protein_structure)\n",
    "print(protein_structure.topology)"
   ]
  },
  {
   "cell_type": "code",
   "execution_count": 4,
   "metadata": {
    "collapsed": false
   },
   "outputs": [],
   "source": [
    "# Merge structures\n",
    "structure = protein_structure + molecule_structure\n",
    "topology = structure.topology\n",
    "\n",
    "# Concatenate positions arrays\n",
    "positions_unit = unit.angstroms\n",
    "positions0_dimensionless = np.array( pdbfile.positions / positions_unit )\n",
    "positions1_dimensionless = np.array( mol_pos / positions_unit )\n",
    "\n",
    "coordinates = np.vstack((positions0_dimensionless,positions1_dimensionless))\n",
    "natoms = len(coordinates)\n",
    "positions = np.zeros([natoms,3], np.float32)\n",
    "for index in range(natoms):\n",
    "    (x,y,z) = coordinates[index]\n",
    "    positions[index,0] = x\n",
    "    positions[index,1] = y\n",
    "    positions[index,2] = z\n",
    "positions = unit.Quantity(positions, positions_unit)\n",
    "\n",
    "# Store in Structure object\n",
    "structure.coordinates = coordinates\n",
    "\n",
    "# Save to PDB\n",
    "structure.save('tmp.pdb',overwrite=True)"
   ]
  },
  {
   "cell_type": "code",
   "execution_count": 5,
   "metadata": {
    "collapsed": false
   },
   "outputs": [],
   "source": [
    "# Solvate with PDBFixer\n",
    "fixer = pdbfixer.PDBFixer('tmp.pdb')\n",
    "#fixer.findMissingResidues()\n",
    "#fixer.findMissingAtoms()\n",
    "#fixer.addMissingAtoms()\n",
    "fixer.addMissingHydrogens(7.0)\n",
    "fixer.addSolvent(padding=10*unit.angstrom, ionicStrength=0.050*unit.molar)"
   ]
  },
  {
   "cell_type": "code",
   "execution_count": 6,
   "metadata": {
    "collapsed": false
   },
   "outputs": [
    {
     "data": {
      "text/plain": [
       "<Structure 32003 atoms; 9971 residues; 22216 bonds; PBC (orthogonal); NOT parametrized>"
      ]
     },
     "execution_count": 6,
     "metadata": {},
     "output_type": "execute_result"
    }
   ],
   "source": [
    "# Load PDBFixer object back to Structure\n",
    "struct = parmed.openmm.load_topology(fixer.topology, xyz=fixer.positions)\n",
    "# Remove from ligand from protein Structure\n",
    "struct.strip(\":MOL\")\n",
    "struct"
   ]
  },
  {
   "cell_type": "code",
   "execution_count": 7,
   "metadata": {
    "collapsed": false
   },
   "outputs": [],
   "source": [
    "# Regenerate OpenMM System to parameterize solvent\n",
    "system = forcefield.createSystem(struct.topology, rigidWater=False)\n",
    "\n",
    "# Regenerate parameterized protein structure\n",
    "protein_structure = parmed.openmm.load_topology( struct.topology, system=system, \n",
    "                                                xyz=struct.positions, box=struct.box )"
   ]
  },
  {
   "cell_type": "code",
   "execution_count": 8,
   "metadata": {
    "collapsed": false
   },
   "outputs": [],
   "source": [
    "# Remerge with ligand structure\n",
    "combined_structure = protein_structure + molecule_structure\n",
    "\n",
    "# Restore initial positions and box dimensions\n",
    "combined_structure.positions = fixer.positions\n",
    "combined_structure.box = struct.box\n",
    "os.remove('tmp.pdb')\n",
    "combined_structure.save('combined_structure.pdb', overwrite=True)"
   ]
  },
  {
   "cell_type": "code",
   "execution_count": 9,
   "metadata": {
    "collapsed": false
   },
   "outputs": [],
   "source": [
    "# Regenerate OpenMM system with ParmEd\n",
    "system = combined_structure.createSystem(nonbondedMethod=app.PME, nonbondedCutoff=10.0*unit.angstroms, \n",
    "                                constraints=app.HBonds)"
   ]
  },
  {
   "cell_type": "code",
   "execution_count": 10,
   "metadata": {
    "collapsed": false
   },
   "outputs": [],
   "source": [
    "pdbfilename = 'combined_structure.pdb'\n",
    "pdbfile = app.PDBFile(pdbfilename)\n",
    "topology = pdbfile.getTopology()\n",
    "positions = pdbfile.getPositions()"
   ]
  },
  {
   "cell_type": "code",
   "execution_count": 11,
   "metadata": {
    "collapsed": true
   },
   "outputs": [],
   "source": [
    "integrator = openmm.LangevinIntegrator(310*unit.kelvin, 1/unit.picoseconds, 0.002*unit.picoseconds)\n",
    "simulation = app.Simulation(topology, system, integrator )"
   ]
  },
  {
   "cell_type": "code",
   "execution_count": 12,
   "metadata": {
    "collapsed": false
   },
   "outputs": [],
   "source": [
    "simulation.context.setPositions(positions)\n",
    "simulation.context.setVelocitiesToTemperature(310*unit.kelvin)\n",
    "simulation.minimizeEnergy()"
   ]
  },
  {
   "cell_type": "code",
   "execution_count": 26,
   "metadata": {
    "collapsed": false
   },
   "outputs": [],
   "source": [
    "statereporter = app.StateDataReporter('output.log', 1000, step=True, potentialEnergy=True, temperature=True)\n",
    "simulation.reporters.append(statereporter)"
   ]
  },
  {
   "cell_type": "code",
   "execution_count": 20,
   "metadata": {
    "collapsed": false
   },
   "outputs": [
    {
     "name": "stdout",
     "output_type": "stream",
     "text": [
      "<simtk.openmm.app.statedatareporter.StateDataReporter object at 0x7fe4d4aeda58>\n"
     ]
    },
    {
     "data": {
      "text/plain": [
       "['__class__',\n",
       " '__del__',\n",
       " '__delattr__',\n",
       " '__dict__',\n",
       " '__dir__',\n",
       " '__doc__',\n",
       " '__eq__',\n",
       " '__format__',\n",
       " '__ge__',\n",
       " '__getattribute__',\n",
       " '__gt__',\n",
       " '__hash__',\n",
       " '__init__',\n",
       " '__le__',\n",
       " '__lt__',\n",
       " '__module__',\n",
       " '__ne__',\n",
       " '__new__',\n",
       " '__reduce__',\n",
       " '__reduce_ex__',\n",
       " '__repr__',\n",
       " '__setattr__',\n",
       " '__sizeof__',\n",
       " '__str__',\n",
       " '__subclasshook__',\n",
       " '__weakref__',\n",
       " '_checkForErrors',\n",
       " '_constructHeaders',\n",
       " '_constructReportValues',\n",
       " '_density',\n",
       " '_elapsedTime',\n",
       " '_hasInitialized',\n",
       " '_initializeConstants',\n",
       " '_kineticEnergy',\n",
       " '_needEnergy',\n",
       " '_needsForces',\n",
       " '_needsPositions',\n",
       " '_needsVelocities',\n",
       " '_openedFile',\n",
       " '_out',\n",
       " '_potentialEnergy',\n",
       " '_progress',\n",
       " '_remainingTime',\n",
       " '_reportInterval',\n",
       " '_separator',\n",
       " '_speed',\n",
       " '_step',\n",
       " '_temperature',\n",
       " '_time',\n",
       " '_totalEnergy',\n",
       " '_totalMass',\n",
       " '_totalSteps',\n",
       " '_volume',\n",
       " 'describeNextReport',\n",
       " 'report']"
      ]
     },
     "execution_count": 20,
     "metadata": {},
     "output_type": "execute_result"
    }
   ],
   "source": [
    "print(statereporter)\n",
    "dir(statereporter)"
   ]
  },
  {
   "cell_type": "code",
   "execution_count": 27,
   "metadata": {
    "collapsed": false
   },
   "outputs": [],
   "source": [
    "simulation.step(10000)"
   ]
  },
  {
   "cell_type": "code",
   "execution_count": 28,
   "metadata": {
    "collapsed": false
   },
   "outputs": [],
   "source": [
    "state = simulation.context.getState( getPositions=True,\n",
    "                                     getVelocities=True,\n",
    "                                     getForces=True,\n",
    "                                     getEnergy=True,\n",
    "                                     getParameters=True,\n",
    "                                     enforcePeriodicBox=True )"
   ]
  },
  {
   "cell_type": "code",
   "execution_count": 32,
   "metadata": {
    "collapsed": false
   },
   "outputs": [
    {
     "name": "stdout",
     "output_type": "stream",
     "text": [
      "<simtk.openmm.app.statedatareporter.StateDataReporter object at 0x7fe4ef3e8518>\n"
     ]
    }
   ],
   "source": [
    "print(statereporter)"
   ]
  },
  {
   "cell_type": "code",
   "execution_count": null,
   "metadata": {
    "collapsed": true
   },
   "outputs": [],
   "source": []
  }
 ],
 "metadata": {
  "anaconda-cloud": {},
  "kernelspec": {
   "display_name": "Python [conda root]",
   "language": "python",
   "name": "conda-root-py"
  },
  "language_info": {
   "codemirror_mode": {
    "name": "ipython",
    "version": 3
   },
   "file_extension": ".py",
   "mimetype": "text/x-python",
   "name": "python",
   "nbconvert_exporter": "python",
   "pygments_lexer": "ipython3",
   "version": "3.5.2"
  }
 },
 "nbformat": 4,
 "nbformat_minor": 1
}
