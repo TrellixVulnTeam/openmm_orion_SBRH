{
 "cells": [
  {
   "cell_type": "code",
   "execution_count": 1,
   "metadata": {
    "collapsed": false
   },
   "outputs": [],
   "source": [
    "from simtk import unit, openmm\n",
    "from simtk.openmm import app\n",
    "import numpy as np\n",
    "from openeye import oechem\n",
    "import os, smarty, parmed, openmoltools, pdbfixer \n",
    "from openmoltools import forcefield_generators"
   ]
  },
  {
   "cell_type": "code",
   "execution_count": 2,
   "metadata": {
    "collapsed": false
   },
   "outputs": [
    {
     "name": "stdout",
     "output_type": "stream",
     "text": [
      "<Structure 26 atoms; 1 residues; 25 bonds; parametrized>\n",
      "<Topology; 1 chains, 1 residues, 26 atoms, 25 bonds>\n"
     ]
    }
   ],
   "source": [
    "# Generate the SMIRNOFF ligand Structure object\n",
    "ifs = oechem.oemolistream(smarty.get_data_filename('molecules/AlkEthOH_c100.mol2'))\n",
    "mol = oechem.OEMol()\n",
    "flavor = oechem.OEIFlavor_Generic_Default | oechem.OEIFlavor_MOL2_Default | oechem.OEIFlavor_MOL2_Forcefield\n",
    "ifs.SetFlavor( oechem.OEFormat_MOL2, flavor)\n",
    "oechem.OEReadMolecule(ifs, mol )\n",
    "oechem.OETriposAtomNames(mol)\n",
    "\n",
    "from smarty.forcefield import ForceField\n",
    "mol_ff = ForceField(smarty.forcefield_utils.get_data_filename('forcefield/Frosst_AlkEtOH.ffxml'))\n",
    "mol_top, mol_sys, mol_pos = smarty.forcefield_utils.create_system_from_molecule(mol_ff, mol)\n",
    "molecule_structure = parmed.openmm.load_topology( mol_top, mol_sys) \n",
    "\n",
    "print(molecule_structure)\n",
    "print(molecule_structure.topology)"
   ]
  },
  {
   "cell_type": "code",
   "execution_count": 3,
   "metadata": {
    "collapsed": true
   },
   "outputs": [],
   "source": [
    "for bond in molecule_structure.bonds:\n",
    "    if (bond.type is None):\n",
    "        raise Exception(str(bond))"
   ]
  },
  {
   "cell_type": "code",
   "execution_count": 4,
   "metadata": {
    "collapsed": false
   },
   "outputs": [
    {
     "name": "stdout",
     "output_type": "stream",
     "text": [
      "<Structure 582 atoms; 35 residues; 589 bonds; parametrized>\n",
      "<Topology; 1 chains, 35 residues, 582 atoms, 589 bonds>\n"
     ]
    }
   ],
   "source": [
    "# Generate protein Stucture object\n",
    "pdbfilename = os.path.join('input', 'input.pdb')\n",
    "pdbfile = app.PDBFile(pdbfilename)\n",
    "forcefield = app.ForceField('amber99sbildn.xml', 'tip3p.xml')\n",
    "system = forcefield.createSystem( pdbfile.topology )\n",
    "protein_structure = parmed.openmm.load_topology( pdbfile.topology, system)\n",
    "\n",
    "print(protein_structure)\n",
    "print(protein_structure.topology)"
   ]
  },
  {
   "cell_type": "code",
   "execution_count": 5,
   "metadata": {
    "collapsed": false
   },
   "outputs": [],
   "source": [
    "for bond in protein_structure.bonds:\n",
    "    if (bond.type is None):\n",
    "        raise Exception(str(bond))"
   ]
  },
  {
   "cell_type": "code",
   "execution_count": 6,
   "metadata": {
    "collapsed": false
   },
   "outputs": [],
   "source": [
    "# Merge structures\n",
    "structure = protein_structure + molecule_structure\n",
    "topology = structure.topology\n",
    "\n",
    "# Concatenate positions arrays\n",
    "positions_unit = unit.angstroms\n",
    "positions0_dimensionless = np.array( pdbfile.positions / positions_unit )\n",
    "positions1_dimensionless = np.array( mol_pos / positions_unit )\n",
    "\n",
    "coordinates = np.vstack((positions0_dimensionless,positions1_dimensionless))\n",
    "natoms = len(coordinates)\n",
    "positions = np.zeros([natoms,3], np.float32)\n",
    "for index in range(natoms):\n",
    "    (x,y,z) = coordinates[index]\n",
    "    positions[index,0] = x\n",
    "    positions[index,1] = y\n",
    "    positions[index,2] = z\n",
    "positions = unit.Quantity(positions, positions_unit)\n",
    "\n",
    "# Store in Structure object\n",
    "structure.coordinates = coordinates\n",
    "\n",
    "# Save to PDB\n",
    "structure.save('test-pdb.pdb',overwrite=True)"
   ]
  },
  {
   "cell_type": "code",
   "execution_count": 7,
   "metadata": {
    "collapsed": true
   },
   "outputs": [],
   "source": [
    "for bond in structure.bonds:\n",
    "    if (bond.type is None):\n",
    "        raise Exception(str(bond))"
   ]
  },
  {
   "cell_type": "code",
   "execution_count": 8,
   "metadata": {
    "collapsed": false
   },
   "outputs": [],
   "source": [
    "# Solvate with PDBFixer\n",
    "fixer = pdbfixer.PDBFixer('test-pdb.pdb')\n",
    "#fixer.findMissingResidues()\n",
    "#fixer.findMissingAtoms()\n",
    "#fixer.addMissingAtoms()\n",
    "#fixer.addMissingHydrogens(7.0)\n",
    "fixer.addSolvent(padding=10*unit.angstrom, ionicStrength=0.050*unit.molar)"
   ]
  },
  {
   "cell_type": "code",
   "execution_count": 9,
   "metadata": {
    "collapsed": false
   },
   "outputs": [
    {
     "data": {
      "text/plain": [
       "<Structure 19945 atoms; 6491 residues; 13471 bonds; PBC (orthogonal); NOT parametrized>"
      ]
     },
     "execution_count": 9,
     "metadata": {},
     "output_type": "execute_result"
    }
   ],
   "source": [
    "# Load PDBFixer object back to Structure\n",
    "struct = parmed.openmm.load_topology(fixer.topology, xyz=fixer.positions)\n",
    "struct"
   ]
  },
  {
   "cell_type": "code",
   "execution_count": 10,
   "metadata": {
    "collapsed": true
   },
   "outputs": [],
   "source": [
    "for bond in structure.bonds:\n",
    "    if (bond.type is None):\n",
    "        raise Exception(str(bond))"
   ]
  },
  {
   "cell_type": "code",
   "execution_count": 11,
   "metadata": {
    "collapsed": false
   },
   "outputs": [
    {
     "data": {
      "text/plain": [
       "<Structure 26 atoms; 1 residues; 0 bonds; PBC (orthogonal); NOT parametrized>"
      ]
     },
     "execution_count": 11,
     "metadata": {},
     "output_type": "execute_result"
    }
   ],
   "source": [
    "# Select ligand residue by AmberMask\n",
    "struct[\":Alk\"]"
   ]
  },
  {
   "cell_type": "code",
   "execution_count": 12,
   "metadata": {
    "collapsed": false
   },
   "outputs": [
    {
     "data": {
      "text/plain": [
       "<Structure 19919 atoms; 6490 residues; 13471 bonds; PBC (orthogonal); NOT parametrized>"
      ]
     },
     "execution_count": 12,
     "metadata": {},
     "output_type": "execute_result"
    }
   ],
   "source": [
    "# Remove from ligand from protein Structure\n",
    "struct.strip(\":Alk\")\n",
    "struct"
   ]
  },
  {
   "cell_type": "code",
   "execution_count": 16,
   "metadata": {
    "collapsed": false
   },
   "outputs": [],
   "source": [
    "# Regenerate OpenMM System to parameterize solvent\n",
    "system = forcefield.createSystem(struct.topology, rigidWater=False)\n",
    "\n",
    "# Regenerate parameterized protein structure\n",
    "protein_structure = parmed.openmm.load_topology( struct.topology, system=system, \n",
    "                                                xyz=struct.positions, box=struct.box )"
   ]
  },
  {
   "cell_type": "code",
   "execution_count": 17,
   "metadata": {
    "collapsed": false
   },
   "outputs": [
    {
     "name": "stdout",
     "output_type": "stream",
     "text": [
      "0\n"
     ]
    }
   ],
   "source": [
    "print(system.getNumConstraints())"
   ]
  },
  {
   "cell_type": "code",
   "execution_count": 18,
   "metadata": {
    "collapsed": false
   },
   "outputs": [],
   "source": [
    "for bond in protein_structure.bonds:\n",
    "    if (bond.type is None):\n",
    "        raise Exception(str(bond))"
   ]
  },
  {
   "cell_type": "code",
   "execution_count": 19,
   "metadata": {
    "collapsed": false
   },
   "outputs": [],
   "source": [
    "# Remerge with ligand structure\n",
    "combined_structure = protein_structure + molecule_structure\n",
    "\n",
    "# Restore initial positions and box dimensions\n",
    "combined_structure.positions = fixer.positions\n",
    "combined_structure.box = struct.box"
   ]
  },
  {
   "cell_type": "code",
   "execution_count": 20,
   "metadata": {
    "collapsed": false
   },
   "outputs": [
    {
     "name": "stdout",
     "output_type": "stream",
     "text": [
      "[ 59.089  59.089  59.089  90.     90.     90.   ]\n"
     ]
    }
   ],
   "source": [
    "print(combined_structure.box)"
   ]
  },
  {
   "cell_type": "code",
   "execution_count": 21,
   "metadata": {
    "collapsed": false
   },
   "outputs": [
    {
     "data": {
      "text/plain": [
       "<simtk.openmm.openmm.System; proxy of <Swig Object of type 'OpenMM::System *' at 0x11a9bacf0> >"
      ]
     },
     "execution_count": 21,
     "metadata": {},
     "output_type": "execute_result"
    }
   ],
   "source": [
    "# Regenerate OpenMM system with ParmEd\n",
    "combined_structure.createSystem(nonbondedMethod=app.PME, nonbondedCutoff=10.0*unit.angstroms, \n",
    "                                constraints=app.HBonds)"
   ]
  },
  {
   "cell_type": "code",
   "execution_count": 22,
   "metadata": {
    "collapsed": false
   },
   "outputs": [
    {
     "data": {
      "text/plain": [
       "<simtk.openmm.openmm.System; proxy of <Swig Object of type 'OpenMM::System *' at 0x11a9ba8d0> >"
      ]
     },
     "execution_count": 22,
     "metadata": {},
     "output_type": "execute_result"
    }
   ],
   "source": [
    "combined_structure.createSystem(nonbondedMethod=app.PME, nonbondedCutoff=10.0*unit.angstroms)"
   ]
  },
  {
   "cell_type": "code",
   "execution_count": null,
   "metadata": {
    "collapsed": true
   },
   "outputs": [],
   "source": []
  }
 ],
 "metadata": {
  "anaconda-cloud": {},
  "kernelspec": {
   "display_name": "Python [conda root]",
   "language": "python",
   "name": "conda-root-py"
  },
  "language_info": {
   "codemirror_mode": {
    "name": "ipython",
    "version": 3
   },
   "file_extension": ".py",
   "mimetype": "text/x-python",
   "name": "python",
   "nbconvert_exporter": "python",
   "pygments_lexer": "ipython3",
   "version": "3.5.2"
  }
 },
 "nbformat": 4,
 "nbformat_minor": 1
}
