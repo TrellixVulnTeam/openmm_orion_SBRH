{
 "cells": [
  {
   "cell_type": "code",
   "execution_count": 20,
   "metadata": {
    "collapsed": false
   },
   "outputs": [
    {
     "name": "stdout",
     "output_type": "stream",
     "text": [
      "CPU times: user 0 ns, sys: 0 ns, total: 0 ns\n",
      "Wall time: 47.2 µs\n"
     ]
    }
   ],
   "source": [
    "%%time\n",
    "from simtk import unit, openmm\n",
    "from simtk.openmm import app\n",
    "import numpy as np\n",
    "from openeye import oechem\n",
    "import os, smarty, parmed, openmoltools, pdbfixer \n",
    "from openmoltools import forcefield_generators"
   ]
  },
  {
   "cell_type": "code",
   "execution_count": 21,
   "metadata": {
    "collapsed": false
   },
   "outputs": [
    {
     "name": "stdout",
     "output_type": "stream",
     "text": [
      "<smarty.forcefield.ForceField object at 0x7f66f09c9ac8>\n",
      "<Structure 15 atoms; 1 residues; 15 bonds; parametrized>\n",
      "<Topology; 1 chains, 1 residues, 15 atoms, 15 bonds>\n",
      "CPU times: user 208 ms, sys: 0 ns, total: 208 ms\n",
      "Wall time: 207 ms\n"
     ]
    }
   ],
   "source": [
    "%%time\n",
    "# Generate the SMIRNOFF ligand Structure object\n",
    "ifs = oechem.oemolistream('../OpenMMCubes/tests/input/toluene.pdb')\n",
    "mol = oechem.OEMol()\n",
    "flavor = oechem.OEIFlavor_Generic_Default | oechem.OEIFlavor_MOL2_Default | oechem.OEIFlavor_MOL2_Forcefield\n",
    "ifs.SetFlavor( oechem.OEFormat_MOL2, flavor)\n",
    "oechem.OEReadMolecule(ifs, mol )\n",
    "oechem.OETriposAtomNames(mol)\n",
    "\n",
    "from smarty.forcefield import ForceField\n",
    "mol_ff = ForceField('../OpenMMCubes/tests/input/forcefield/smirff99Frosst.ffxml')\n",
    "mol_top, mol_sys, mol_pos = smarty.forcefield_utils.create_system_from_molecule(mol_ff, mol)\n",
    "molecule_structure = parmed.openmm.load_topology(mol_top, mol_sys, xyz=mol_pos) \n",
    "molecule_structure.residues[0].name = \"MOL\"\n",
    "\n",
    "print(mol_ff)\n",
    "print(molecule_structure)\n",
    "print(molecule_structure.topology)"
   ]
  },
  {
   "cell_type": "code",
   "execution_count": 22,
   "metadata": {
    "collapsed": false
   },
   "outputs": [
    {
     "name": "stdout",
     "output_type": "stream",
     "text": [
      "<Structure 2634 atoms; 164 residues; 2654 bonds; parametrized>\n",
      "<Topology; 1 chains, 164 residues, 2634 atoms, 2654 bonds>\n",
      "CPU times: user 2.32 s, sys: 8 ms, total: 2.33 s\n",
      "Wall time: 2.34 s\n"
     ]
    }
   ],
   "source": [
    "%%time\n",
    "#Generate protein Stucture object\n",
    "pdbfilename = os.path.join('..','OpenMMCubes', 'tests', 'input', 'T4-protein.pdb')\n",
    "pdbfile = app.PDBFile(pdbfilename)\n",
    "forcefield = app.ForceField('amber99sbildn.xml', 'tip3p.xml')\n",
    "system = forcefield.createSystem( pdbfile.topology )\n",
    "protein_structure = parmed.openmm.load_topology( pdbfile.topology, system)\n",
    "\n",
    "print(protein_structure)\n",
    "print(protein_structure.topology)"
   ]
  },
  {
   "cell_type": "code",
   "execution_count": 23,
   "metadata": {
    "collapsed": false
   },
   "outputs": [
    {
     "name": "stdout",
     "output_type": "stream",
     "text": [
      "CPU times: user 988 ms, sys: 12 ms, total: 1e+03 ms\n",
      "Wall time: 995 ms\n"
     ]
    }
   ],
   "source": [
    "%%time\n",
    "# Merge structures\n",
    "structure = protein_structure + molecule_structure\n",
    "topology = structure.topology\n",
    "\n",
    "# Concatenate positions arrays\n",
    "positions_unit = unit.angstroms\n",
    "positions0_dimensionless = np.array( pdbfile.positions / positions_unit )\n",
    "positions1_dimensionless = np.array( mol_pos / positions_unit )\n",
    "\n",
    "coordinates = np.vstack((positions0_dimensionless,positions1_dimensionless))\n",
    "natoms = len(coordinates)\n",
    "positions = np.zeros([natoms,3], np.float32)\n",
    "for index in range(natoms):\n",
    "    (x,y,z) = coordinates[index]\n",
    "    positions[index,0] = x\n",
    "    positions[index,1] = y\n",
    "    positions[index,2] = z\n",
    "positions = unit.Quantity(positions, positions_unit)\n",
    "\n",
    "# Store in Structure object\n",
    "structure.coordinates = coordinates\n",
    "\n",
    "# Save to PDB\n",
    "structure.save('tmp.pdb',overwrite=True)"
   ]
  },
  {
   "cell_type": "code",
   "execution_count": 24,
   "metadata": {
    "collapsed": false
   },
   "outputs": [
    {
     "name": "stdout",
     "output_type": "stream",
     "text": [
      "CPU times: user 1min 46s, sys: 28 ms, total: 1min 46s\n",
      "Wall time: 31.7 s\n"
     ]
    }
   ],
   "source": [
    "%%time\n",
    "# Solvate with PDBFixer\n",
    "fixer = pdbfixer.PDBFixer('tmp.pdb')\n",
    "#fixer.findMissingResidues()\n",
    "#fixer.findMissingAtoms()\n",
    "#fixer.addMissingAtoms()\n",
    "fixer.addMissingHydrogens(7.0)\n",
    "fixer.addSolvent(padding=unit.Quantity(10, unit.angstroms),\n",
    "                 ionicStrength=unit.Quantity(50, unit.millimolar))"
   ]
  },
  {
   "cell_type": "code",
   "execution_count": 25,
   "metadata": {
    "collapsed": false
   },
   "outputs": [
    {
     "name": "stdout",
     "output_type": "stream",
     "text": [
      "CPU times: user 2.02 s, sys: 8 ms, total: 2.02 s\n",
      "Wall time: 2.02 s\n"
     ]
    }
   ],
   "source": [
    "%%time\n",
    "# Load PDBFixer object back to Structure\n",
    "struct = parmed.openmm.load_topology(fixer.topology, xyz=fixer.positions)\n",
    "# Remove from ligand from protein Structure\n",
    "struct.strip(\":MOL\")\n",
    "struct"
   ]
  },
  {
   "cell_type": "code",
   "execution_count": 26,
   "metadata": {
    "collapsed": false
   },
   "outputs": [
    {
     "name": "stdout",
     "output_type": "stream",
     "text": [
      "CPU times: user 3.71 s, sys: 12 ms, total: 3.72 s\n",
      "Wall time: 3.72 s\n"
     ]
    }
   ],
   "source": [
    "%%time\n",
    "# Regenerate OpenMM System to parameterize solvent\n",
    "system = forcefield.createSystem(struct.topology, rigidWater=False)"
   ]
  },
  {
   "cell_type": "code",
   "execution_count": 27,
   "metadata": {
    "collapsed": false
   },
   "outputs": [
    {
     "name": "stdout",
     "output_type": "stream",
     "text": [
      "CPU times: user 6.14 s, sys: 28 ms, total: 6.17 s\n",
      "Wall time: 6.17 s\n"
     ]
    }
   ],
   "source": [
    "%%time\n",
    "# Regenerate parameterized protein structure\n",
    "protein_structure = parmed.openmm.load_topology( struct.topology, system=system, \n",
    "                                                xyz=struct.positions, box=struct.box )"
   ]
  },
  {
   "cell_type": "code",
   "execution_count": 28,
   "metadata": {
    "collapsed": false
   },
   "outputs": [
    {
     "name": "stdout",
     "output_type": "stream",
     "text": [
      "CPU times: user 3.41 s, sys: 44 ms, total: 3.46 s\n",
      "Wall time: 3.45 s\n"
     ]
    }
   ],
   "source": [
    "%%time\n",
    "# Remerge with ligand structure\n",
    "combined_structure = protein_structure + molecule_structure\n",
    "\n",
    "# Restore initial positions and box dimensions\n",
    "combined_structure.positions = fixer.positions\n",
    "combined_structure.box = struct.box\n",
    "os.remove('tmp.pdb')\n",
    "combined_structure.save('combined_structure.pdb', overwrite=True)"
   ]
  },
  {
   "cell_type": "code",
   "execution_count": 29,
   "metadata": {
    "collapsed": false
   },
   "outputs": [
    {
     "name": "stdout",
     "output_type": "stream",
     "text": [
      "CPU times: user 1.96 s, sys: 0 ns, total: 1.96 s\n",
      "Wall time: 1.96 s\n"
     ]
    }
   ],
   "source": [
    "%%time\n",
    "# Regenerate OpenMM system with ParmEd\n",
    "system = combined_structure.createSystem(nonbondedMethod=app.PME, nonbondedCutoff=10.0*unit.angstroms), \n",
    "                                #constraints=app.HBonds)"
   ]
  },
  {
   "cell_type": "code",
   "execution_count": 30,
   "metadata": {
    "collapsed": false
   },
   "outputs": [
    {
     "name": "stdout",
     "output_type": "stream",
     "text": [
      "CPU times: user 3.21 s, sys: 40 ms, total: 3.25 s\n",
      "Wall time: 3.25 s\n"
     ]
    }
   ],
   "source": [
    "%%time\n",
    "pdbfilename = 'combined_structure.pdb'\n",
    "pdbfile = app.PDBFile(pdbfilename)\n",
    "topology = pdbfile.topology\n",
    "positions = pdbfile.positions"
   ]
  },
  {
   "cell_type": "code",
   "execution_count": 31,
   "metadata": {
    "collapsed": false
   },
   "outputs": [
    {
     "name": "stdout",
     "output_type": "stream",
     "text": [
      "CPU times: user 0 ns, sys: 0 ns, total: 0 ns\n",
      "Wall time: 207 µs\n"
     ]
    }
   ],
   "source": [
    "%%time\n",
    "integrator = openmm.LangevinIntegrator(300*unit.kelvin, 1/unit.picoseconds, 0.002*unit.picoseconds)"
   ]
  },
  {
   "cell_type": "code",
   "execution_count": 35,
   "metadata": {
    "collapsed": false
   },
   "outputs": [
    {
     "ename": "NotImplementedError",
     "evalue": "Wrong number or type of arguments for overloaded function 'new_Context'.\n  Possible C/C++ prototypes are:\n    OpenMM::Context::Context(OpenMM::System const &,OpenMM::Integrator &)\n    OpenMM::Context::Context(OpenMM::System const &,OpenMM::Integrator &,OpenMM::Platform &)\n    OpenMM::Context::Context(OpenMM::System const &,OpenMM::Integrator &,OpenMM::Platform &,std::map< std::string,std::string,std::less< std::string >,std::allocator< std::pair< std::string const,std::string > > > const &)\n    OpenMM::Context::Context(OpenMM::Context const &)\n",
     "output_type": "error",
     "traceback": [
      "\u001b[0;31m---------------------------------------------------------------------------\u001b[0m",
      "\u001b[0;31mNotImplementedError\u001b[0m                       Traceback (most recent call last)",
      "\u001b[0;32m<ipython-input-35-878c8212dcb1>\u001b[0m in \u001b[0;36m<module>\u001b[0;34m()\u001b[0m\n\u001b[0;32m----> 1\u001b[0;31m \u001b[0msimulation\u001b[0m \u001b[0;34m=\u001b[0m \u001b[0mapp\u001b[0m\u001b[0;34m.\u001b[0m\u001b[0mSimulation\u001b[0m\u001b[0;34m(\u001b[0m\u001b[0mtopology\u001b[0m\u001b[0;34m,\u001b[0m \u001b[0msystem\u001b[0m\u001b[0;34m,\u001b[0m \u001b[0mintegrator\u001b[0m \u001b[0;34m)\u001b[0m\u001b[0;34m\u001b[0m\u001b[0m\n\u001b[0m",
      "\u001b[0;32m/home/nathanlim/anaconda3/lib/python3.5/site-packages/simtk/openmm/app/simulation.py\u001b[0m in \u001b[0;36m__init__\u001b[0;34m(self, topology, system, integrator, platform, platformProperties, state)\u001b[0m\n\u001b[1;32m     99\u001b[0m         \u001b[0;32mif\u001b[0m \u001b[0mplatform\u001b[0m \u001b[0;32mis\u001b[0m \u001b[0;32mNone\u001b[0m\u001b[0;34m:\u001b[0m\u001b[0;34m\u001b[0m\u001b[0m\n\u001b[1;32m    100\u001b[0m             \u001b[0;31m## The Context containing the current state of the simulation\u001b[0m\u001b[0;34m\u001b[0m\u001b[0;34m\u001b[0m\u001b[0m\n\u001b[0;32m--> 101\u001b[0;31m             \u001b[0mself\u001b[0m\u001b[0;34m.\u001b[0m\u001b[0mcontext\u001b[0m \u001b[0;34m=\u001b[0m \u001b[0mmm\u001b[0m\u001b[0;34m.\u001b[0m\u001b[0mContext\u001b[0m\u001b[0;34m(\u001b[0m\u001b[0mself\u001b[0m\u001b[0;34m.\u001b[0m\u001b[0msystem\u001b[0m\u001b[0;34m,\u001b[0m \u001b[0mself\u001b[0m\u001b[0;34m.\u001b[0m\u001b[0mintegrator\u001b[0m\u001b[0;34m)\u001b[0m\u001b[0;34m\u001b[0m\u001b[0m\n\u001b[0m\u001b[1;32m    102\u001b[0m         \u001b[0;32melif\u001b[0m \u001b[0mplatformProperties\u001b[0m \u001b[0;32mis\u001b[0m \u001b[0;32mNone\u001b[0m\u001b[0;34m:\u001b[0m\u001b[0;34m\u001b[0m\u001b[0m\n\u001b[1;32m    103\u001b[0m             \u001b[0mself\u001b[0m\u001b[0;34m.\u001b[0m\u001b[0mcontext\u001b[0m \u001b[0;34m=\u001b[0m \u001b[0mmm\u001b[0m\u001b[0;34m.\u001b[0m\u001b[0mContext\u001b[0m\u001b[0;34m(\u001b[0m\u001b[0mself\u001b[0m\u001b[0;34m.\u001b[0m\u001b[0msystem\u001b[0m\u001b[0;34m,\u001b[0m \u001b[0mself\u001b[0m\u001b[0;34m.\u001b[0m\u001b[0mintegrator\u001b[0m\u001b[0;34m,\u001b[0m \u001b[0mplatform\u001b[0m\u001b[0;34m)\u001b[0m\u001b[0;34m\u001b[0m\u001b[0m\n",
      "\u001b[0;32m/home/nathanlim/anaconda3/lib/python3.5/site-packages/simtk/openmm/openmm.py\u001b[0m in \u001b[0;36m__init__\u001b[0;34m(self, *args)\u001b[0m\n\u001b[1;32m  13876\u001b[0m             \u001b[0ma\u001b[0m \u001b[0mset\u001b[0m \u001b[0mof\u001b[0m \u001b[0mvalues\u001b[0m \u001b[0;32mfor\u001b[0m \u001b[0mplatform\u001b[0m\u001b[0;34m-\u001b[0m\u001b[0mspecific\u001b[0m \u001b[0mproperties\u001b[0m\u001b[0;34m.\u001b[0m \u001b[0mKeys\u001b[0m \u001b[0mare\u001b[0m \u001b[0mthe\u001b[0m \u001b[0mproperty\u001b[0m \u001b[0mnames\u001b[0m\u001b[0;34m.\u001b[0m\u001b[0;34m\u001b[0m\u001b[0m\n\u001b[1;32m  13877\u001b[0m         \"\"\"\n\u001b[0;32m> 13878\u001b[0;31m         \u001b[0mthis\u001b[0m \u001b[0;34m=\u001b[0m \u001b[0m_openmm\u001b[0m\u001b[0;34m.\u001b[0m\u001b[0mnew_Context\u001b[0m\u001b[0;34m(\u001b[0m\u001b[0;34m*\u001b[0m\u001b[0margs\u001b[0m\u001b[0;34m)\u001b[0m\u001b[0;34m\u001b[0m\u001b[0m\n\u001b[0m\u001b[1;32m  13879\u001b[0m         \u001b[0;32mtry\u001b[0m\u001b[0;34m:\u001b[0m\u001b[0;34m\u001b[0m\u001b[0m\n\u001b[1;32m  13880\u001b[0m             \u001b[0mself\u001b[0m\u001b[0;34m.\u001b[0m\u001b[0mthis\u001b[0m\u001b[0;34m.\u001b[0m\u001b[0mappend\u001b[0m\u001b[0;34m(\u001b[0m\u001b[0mthis\u001b[0m\u001b[0;34m)\u001b[0m\u001b[0;34m\u001b[0m\u001b[0m\n",
      "\u001b[0;31mNotImplementedError\u001b[0m: Wrong number or type of arguments for overloaded function 'new_Context'.\n  Possible C/C++ prototypes are:\n    OpenMM::Context::Context(OpenMM::System const &,OpenMM::Integrator &)\n    OpenMM::Context::Context(OpenMM::System const &,OpenMM::Integrator &,OpenMM::Platform &)\n    OpenMM::Context::Context(OpenMM::System const &,OpenMM::Integrator &,OpenMM::Platform &,std::map< std::string,std::string,std::less< std::string >,std::allocator< std::pair< std::string const,std::string > > > const &)\n    OpenMM::Context::Context(OpenMM::Context const &)\n"
     ]
    }
   ],
   "source": [
    "simulation = app.Simulation(topology, system, integrator )"
   ]
  },
  {
   "cell_type": "code",
   "execution_count": 34,
   "metadata": {
    "collapsed": false
   },
   "outputs": [
    {
     "ename": "Exception",
     "evalue": "Called setPositions() on a Context with the wrong number of positions",
     "output_type": "error",
     "traceback": [
      "\u001b[0;31m---------------------------------------------------------------------------\u001b[0m",
      "\u001b[0;31mException\u001b[0m                                 Traceback (most recent call last)",
      "\u001b[0;32m<ipython-input-34-46414fcbf7e3>\u001b[0m in \u001b[0;36m<module>\u001b[0;34m()\u001b[0m\n\u001b[0;32m----> 1\u001b[0;31m \u001b[0mget_ipython\u001b[0m\u001b[0;34m(\u001b[0m\u001b[0;34m)\u001b[0m\u001b[0;34m.\u001b[0m\u001b[0mrun_cell_magic\u001b[0m\u001b[0;34m(\u001b[0m\u001b[0;34m'time'\u001b[0m\u001b[0;34m,\u001b[0m \u001b[0;34m''\u001b[0m\u001b[0;34m,\u001b[0m \u001b[0;34m'simulation.context.setPositions(positions)\\nsimulation.context.setVelocitiesToTemperature(300*unit.kelvin)'\u001b[0m\u001b[0;34m)\u001b[0m\u001b[0;34m\u001b[0m\u001b[0m\n\u001b[0m",
      "\u001b[0;32m/home/nathanlim/anaconda3/lib/python3.5/site-packages/IPython/core/interactiveshell.py\u001b[0m in \u001b[0;36mrun_cell_magic\u001b[0;34m(self, magic_name, line, cell)\u001b[0m\n\u001b[1;32m   2113\u001b[0m             \u001b[0mmagic_arg_s\u001b[0m \u001b[0;34m=\u001b[0m \u001b[0mself\u001b[0m\u001b[0;34m.\u001b[0m\u001b[0mvar_expand\u001b[0m\u001b[0;34m(\u001b[0m\u001b[0mline\u001b[0m\u001b[0;34m,\u001b[0m \u001b[0mstack_depth\u001b[0m\u001b[0;34m)\u001b[0m\u001b[0;34m\u001b[0m\u001b[0m\n\u001b[1;32m   2114\u001b[0m             \u001b[0;32mwith\u001b[0m \u001b[0mself\u001b[0m\u001b[0;34m.\u001b[0m\u001b[0mbuiltin_trap\u001b[0m\u001b[0;34m:\u001b[0m\u001b[0;34m\u001b[0m\u001b[0m\n\u001b[0;32m-> 2115\u001b[0;31m                 \u001b[0mresult\u001b[0m \u001b[0;34m=\u001b[0m \u001b[0mfn\u001b[0m\u001b[0;34m(\u001b[0m\u001b[0mmagic_arg_s\u001b[0m\u001b[0;34m,\u001b[0m \u001b[0mcell\u001b[0m\u001b[0;34m)\u001b[0m\u001b[0;34m\u001b[0m\u001b[0m\n\u001b[0m\u001b[1;32m   2116\u001b[0m             \u001b[0;32mreturn\u001b[0m \u001b[0mresult\u001b[0m\u001b[0;34m\u001b[0m\u001b[0m\n\u001b[1;32m   2117\u001b[0m \u001b[0;34m\u001b[0m\u001b[0m\n",
      "\u001b[0;32m<decorator-gen-59>\u001b[0m in \u001b[0;36mtime\u001b[0;34m(self, line, cell, local_ns)\u001b[0m\n",
      "\u001b[0;32m/home/nathanlim/anaconda3/lib/python3.5/site-packages/IPython/core/magic.py\u001b[0m in \u001b[0;36m<lambda>\u001b[0;34m(f, *a, **k)\u001b[0m\n\u001b[1;32m    186\u001b[0m     \u001b[0;31m# but it's overkill for just that one bit of state.\u001b[0m\u001b[0;34m\u001b[0m\u001b[0;34m\u001b[0m\u001b[0m\n\u001b[1;32m    187\u001b[0m     \u001b[0;32mdef\u001b[0m \u001b[0mmagic_deco\u001b[0m\u001b[0;34m(\u001b[0m\u001b[0marg\u001b[0m\u001b[0;34m)\u001b[0m\u001b[0;34m:\u001b[0m\u001b[0;34m\u001b[0m\u001b[0m\n\u001b[0;32m--> 188\u001b[0;31m         \u001b[0mcall\u001b[0m \u001b[0;34m=\u001b[0m \u001b[0;32mlambda\u001b[0m \u001b[0mf\u001b[0m\u001b[0;34m,\u001b[0m \u001b[0;34m*\u001b[0m\u001b[0ma\u001b[0m\u001b[0;34m,\u001b[0m \u001b[0;34m**\u001b[0m\u001b[0mk\u001b[0m\u001b[0;34m:\u001b[0m \u001b[0mf\u001b[0m\u001b[0;34m(\u001b[0m\u001b[0;34m*\u001b[0m\u001b[0ma\u001b[0m\u001b[0;34m,\u001b[0m \u001b[0;34m**\u001b[0m\u001b[0mk\u001b[0m\u001b[0;34m)\u001b[0m\u001b[0;34m\u001b[0m\u001b[0m\n\u001b[0m\u001b[1;32m    189\u001b[0m \u001b[0;34m\u001b[0m\u001b[0m\n\u001b[1;32m    190\u001b[0m         \u001b[0;32mif\u001b[0m \u001b[0mcallable\u001b[0m\u001b[0;34m(\u001b[0m\u001b[0marg\u001b[0m\u001b[0;34m)\u001b[0m\u001b[0;34m:\u001b[0m\u001b[0;34m\u001b[0m\u001b[0m\n",
      "\u001b[0;32m/home/nathanlim/anaconda3/lib/python3.5/site-packages/IPython/core/magics/execution.py\u001b[0m in \u001b[0;36mtime\u001b[0;34m(self, line, cell, local_ns)\u001b[0m\n\u001b[1;32m   1178\u001b[0m         \u001b[0;32melse\u001b[0m\u001b[0;34m:\u001b[0m\u001b[0;34m\u001b[0m\u001b[0m\n\u001b[1;32m   1179\u001b[0m             \u001b[0mst\u001b[0m \u001b[0;34m=\u001b[0m \u001b[0mclock2\u001b[0m\u001b[0;34m(\u001b[0m\u001b[0;34m)\u001b[0m\u001b[0;34m\u001b[0m\u001b[0m\n\u001b[0;32m-> 1180\u001b[0;31m             \u001b[0mexec\u001b[0m\u001b[0;34m(\u001b[0m\u001b[0mcode\u001b[0m\u001b[0;34m,\u001b[0m \u001b[0mglob\u001b[0m\u001b[0;34m,\u001b[0m \u001b[0mlocal_ns\u001b[0m\u001b[0;34m)\u001b[0m\u001b[0;34m\u001b[0m\u001b[0m\n\u001b[0m\u001b[1;32m   1181\u001b[0m             \u001b[0mend\u001b[0m \u001b[0;34m=\u001b[0m \u001b[0mclock2\u001b[0m\u001b[0;34m(\u001b[0m\u001b[0;34m)\u001b[0m\u001b[0;34m\u001b[0m\u001b[0m\n\u001b[1;32m   1182\u001b[0m             \u001b[0mout\u001b[0m \u001b[0;34m=\u001b[0m \u001b[0;32mNone\u001b[0m\u001b[0;34m\u001b[0m\u001b[0m\n",
      "\u001b[0;32m<timed exec>\u001b[0m in \u001b[0;36m<module>\u001b[0;34m()\u001b[0m\n",
      "\u001b[0;32m/home/nathanlim/anaconda3/lib/python3.5/site-packages/simtk/openmm/openmm.py\u001b[0m in \u001b[0;36msetPositions\u001b[0;34m(self, positions)\u001b[0m\n\u001b[1;32m  13578\u001b[0m             \u001b[0ma\u001b[0m \u001b[0mvector\u001b[0m \u001b[0mwhose\u001b[0m \u001b[0mlength\u001b[0m \u001b[0mequals\u001b[0m \u001b[0mthe\u001b[0m \u001b[0mnumber\u001b[0m \u001b[0mof\u001b[0m \u001b[0mparticles\u001b[0m \u001b[0;32min\u001b[0m \u001b[0mthe\u001b[0m \u001b[0mSystem\u001b[0m\u001b[0;34m.\u001b[0m \u001b[0mThe\u001b[0m \u001b[0mi\u001b[0m\u001b[0;34m'th element contains the position of the i'\u001b[0m\u001b[0mth\u001b[0m \u001b[0mparticle\u001b[0m\u001b[0;34m.\u001b[0m\u001b[0;34m\u001b[0m\u001b[0m\n\u001b[1;32m  13579\u001b[0m         \"\"\"\n\u001b[0;32m> 13580\u001b[0;31m         \u001b[0;32mreturn\u001b[0m \u001b[0m_openmm\u001b[0m\u001b[0;34m.\u001b[0m\u001b[0mContext_setPositions\u001b[0m\u001b[0;34m(\u001b[0m\u001b[0mself\u001b[0m\u001b[0;34m,\u001b[0m \u001b[0mpositions\u001b[0m\u001b[0;34m)\u001b[0m\u001b[0;34m\u001b[0m\u001b[0m\n\u001b[0m\u001b[1;32m  13581\u001b[0m \u001b[0;34m\u001b[0m\u001b[0m\n\u001b[1;32m  13582\u001b[0m \u001b[0;34m\u001b[0m\u001b[0m\n",
      "\u001b[0;31mException\u001b[0m: Called setPositions() on a Context with the wrong number of positions"
     ]
    }
   ],
   "source": [
    "%%time\n",
    "simulation.context.setPositions(positions)\n",
    "simulation.context.setVelocitiesToTemperature(300*unit.kelvin)"
   ]
  },
  {
   "cell_type": "code",
   "execution_count": 15,
   "metadata": {
    "collapsed": false
   },
   "outputs": [
    {
     "name": "stdout",
     "output_type": "stream",
     "text": [
      "CPU\n"
     ]
    }
   ],
   "source": [
    "print(simulation.context.getPlatform().getName())"
   ]
  },
  {
   "cell_type": "code",
   "execution_count": null,
   "metadata": {
    "collapsed": false
   },
   "outputs": [],
   "source": [
    "%%time\n",
    "simulation.minimizeEnergy(maxIterations=100)"
   ]
  },
  {
   "cell_type": "code",
   "execution_count": null,
   "metadata": {
    "collapsed": false
   },
   "outputs": [],
   "source": [
    "%%time\n",
    "statereporter = app.StateDataReporter('output.log', 100, step=True, potentialEnergy=True, temperature=True)\n",
    "simulation.reporters.append(statereporter)"
   ]
  },
  {
   "cell_type": "code",
   "execution_count": null,
   "metadata": {
    "collapsed": false
   },
   "outputs": [],
   "source": [
    "%%time\n",
    "simulation.step(1000)"
   ]
  },
  {
   "cell_type": "code",
   "execution_count": null,
   "metadata": {
    "collapsed": false
   },
   "outputs": [],
   "source": [
    "%%time\n",
    "state = simulation.context.getState( getPositions=True,\n",
    "                                     getVelocities=True,\n",
    "                                     getForces=True,\n",
    "                                     getEnergy=True,\n",
    "                                     getParameters=True,\n",
    "                                     enforcePeriodicBox=True )"
   ]
  },
  {
   "cell_type": "code",
   "execution_count": null,
   "metadata": {
    "collapsed": true
   },
   "outputs": [],
   "source": []
  },
  {
   "cell_type": "code",
   "execution_count": 46,
   "metadata": {
    "collapsed": false
   },
   "outputs": [],
   "source": [
    "pdbfile = open('../OpenMMCubes/tests/input/toluene.pdb', 'rb')\n",
    "with oechem.oemolostream('smirff_mol.oeb.gz') as ofs:\n",
    "    ffxml = open('../OpenMMCubes/tests/input/forcefield/smirff99Frosst.ffxml', 'rb')\n",
    "    mol.SetData(oechem.OEGetTag('forcefield'), ffxml.read())\n",
    "    mol.SetData(oechem.OEGetTag('pdb'), pdbfile.read())\n",
    "    oechem.OEWriteMolecule(ofs, mol)"
   ]
  },
  {
   "cell_type": "code",
   "execution_count": 65,
   "metadata": {
    "collapsed": false
   },
   "outputs": [
    {
     "name": "stdout",
     "output_type": "stream",
     "text": [
      "<class '_io.StringIO'>\n",
      "[(2.237, 2.168, 2.9770000000000003), (2.2600000000000002, 2.293, 3.0420000000000003), (2.34, 2.108, 2.9010000000000002), (2.3760000000000003, 2.359, 3.0250000000000004), (2.462, 2.176, 2.895), (2.483, 2.298, 2.958), (2.6100000000000003, 2.368, 2.94), (2.1390000000000002, 2.122, 2.986), (2.183, 2.342, 3.1020000000000003), (2.315, 2.0180000000000002, 2.846), (2.399, 2.4570000000000003, 3.068), (2.5440000000000005, 2.1270000000000002, 2.841), (2.591, 2.4730000000000003, 2.915), (2.6670000000000003, 2.3640000000000003, 3.0340000000000003), (2.6790000000000003, 2.3190000000000004, 2.872)] nm\n"
     ]
    }
   ],
   "source": [
    "import io\n",
    "pdb = mol.GetData(oechem.OEGetTag('pdb'))\n",
    "output = io.StringIO()\n",
    "output.write(pdb)\n",
    "output.seek(0)\n",
    "print(type(output))\n",
    "\n",
    "pdbfile = app.PDBFile(output)\n",
    "print(pdbfile.positions)\n"
   ]
  },
  {
   "cell_type": "code",
   "execution_count": 4,
   "metadata": {
    "collapsed": false,
    "scrolled": true
   },
   "outputs": [
    {
     "name": "stdout",
     "output_type": "stream",
     "text": [
      "[[ 22.37000084  21.68000031  29.77000046]\n",
      " [ 22.60000038  22.93000031  30.42000008]\n",
      " [ 23.39999962  21.07999992  29.01000023]\n",
      " [ 23.76000023  23.59000015  30.25      ]\n",
      " [ 24.62000084  21.76000023  28.95000076]\n",
      " [ 24.82999992  22.97999954  29.57999992]\n",
      " [ 26.10000038  23.68000031  29.39999962]\n",
      " [ 21.38999939  21.21999931  29.86000061]\n",
      " [ 21.82999992  23.42000008  31.02000046]\n",
      " [ 23.14999962  20.18000031  28.45999908]\n",
      " [ 23.98999977  24.56999969  30.68000031]\n",
      " [ 25.44000053  21.27000046  28.40999985]\n",
      " [ 25.90999985  24.72999954  29.14999962]\n",
      " [ 26.67000008  23.63999939  30.34000015]\n",
      " [ 26.79000092  23.19000053  28.71999931]] A\n"
     ]
    }
   ],
   "source": [
    "# Generate the SMIRNOFF ligand Structure object\n",
    "with oechem.oemolistream('smirff_mol.oeb.gz') as ifs:\n",
    "    mol = oechem.OEMol()\n",
    "    oechem.OEReadMolecule(ifs, mol)\n",
    "    ffxml = mol.GetData(oechem.OEGetTag('forcefield')).encode()\n",
    "    \n",
    "    with open('smirff.ffxml', 'wb') as out:\n",
    "        out.write(ffxml)\n",
    "        \n",
    "    from smarty.forcefield import ForceField\n",
    "    mol_ff = ForceField(open('smirff.ffxml'))\n",
    "    mol_top, mol_sys, mol_pos = smarty.forcefield_utils.create_system_from_molecule(mol_ff, mol)\n",
    "    print(mol_pos)"
   ]
  },
  {
   "cell_type": "code",
   "execution_count": 105,
   "metadata": {
    "collapsed": false
   },
   "outputs": [
    {
     "ename": "ValueError",
     "evalue": "GetData: states not found.",
     "output_type": "error",
     "traceback": [
      "\u001b[0;31m---------------------------------------------------------------------------\u001b[0m",
      "\u001b[0;31mValueError\u001b[0m                                Traceback (most recent call last)",
      "\u001b[0;32m<ipython-input-105-4ee698722b14>\u001b[0m in \u001b[0;36m<module>\u001b[0;34m()\u001b[0m\n\u001b[1;32m      3\u001b[0m \u001b[0mifs\u001b[0m \u001b[0;34m=\u001b[0m \u001b[0moechem\u001b[0m\u001b[0;34m.\u001b[0m\u001b[0moemolistream\u001b[0m\u001b[0;34m(\u001b[0m\u001b[0moebfname\u001b[0m\u001b[0;34m)\u001b[0m\u001b[0;34m\u001b[0m\u001b[0m\n\u001b[1;32m      4\u001b[0m \u001b[0;32mfor\u001b[0m \u001b[0mmol\u001b[0m \u001b[0;32min\u001b[0m \u001b[0mifs\u001b[0m\u001b[0;34m.\u001b[0m\u001b[0mGetOEMols\u001b[0m\u001b[0;34m(\u001b[0m\u001b[0;34m)\u001b[0m\u001b[0;34m:\u001b[0m\u001b[0;34m\u001b[0m\u001b[0m\n\u001b[0;32m----> 5\u001b[0;31m     \u001b[0mdata\u001b[0m \u001b[0;34m=\u001b[0m \u001b[0mmol\u001b[0m\u001b[0;34m.\u001b[0m\u001b[0mGetData\u001b[0m\u001b[0;34m(\u001b[0m\u001b[0msystag\u001b[0m\u001b[0;34m)\u001b[0m\u001b[0;34m\u001b[0m\u001b[0m\n\u001b[0m\u001b[1;32m      6\u001b[0m     \u001b[0msystem\u001b[0m \u001b[0;34m=\u001b[0m \u001b[0mopenmm\u001b[0m\u001b[0;34m.\u001b[0m\u001b[0mXmlSerializer\u001b[0m\u001b[0;34m.\u001b[0m\u001b[0mdeserialize\u001b[0m\u001b[0;34m(\u001b[0m \u001b[0mdata\u001b[0m \u001b[0;34m)\u001b[0m\u001b[0;34m\u001b[0m\u001b[0m\n\u001b[1;32m      7\u001b[0m     \u001b[0mprint\u001b[0m\u001b[0;34m(\u001b[0m\u001b[0mtype\u001b[0m\u001b[0;34m(\u001b[0m\u001b[0msystem\u001b[0m\u001b[0;34m)\u001b[0m\u001b[0;34m)\u001b[0m\u001b[0;34m\u001b[0m\u001b[0m\n",
      "\u001b[0;32m/home/limn1/anaconda3/lib/python3.5/site-packages/openeye/oechem.py\u001b[0m in \u001b[0;36mGetData\u001b[0;34m(self, *args)\u001b[0m\n\u001b[1;32m   7573\u001b[0m         \u001b[0mGetData\u001b[0m\u001b[0;34m(\u001b[0m\u001b[0mOEBase\u001b[0m \u001b[0mself\u001b[0m\u001b[0;34m)\u001b[0m \u001b[0;34m->\u001b[0m \u001b[0mPyObject\u001b[0m \u001b[0;34m*\u001b[0m\u001b[0;34m\u001b[0m\u001b[0m\n\u001b[1;32m   7574\u001b[0m         \"\"\"\n\u001b[0;32m-> 7575\u001b[0;31m         \u001b[0;32mreturn\u001b[0m \u001b[0m_oechem\u001b[0m\u001b[0;34m.\u001b[0m\u001b[0mOEBase_GetData\u001b[0m\u001b[0;34m(\u001b[0m\u001b[0mself\u001b[0m\u001b[0;34m,\u001b[0m \u001b[0;34m*\u001b[0m\u001b[0margs\u001b[0m\u001b[0;34m)\u001b[0m\u001b[0;34m\u001b[0m\u001b[0m\n\u001b[0m\u001b[1;32m   7576\u001b[0m \u001b[0;34m\u001b[0m\u001b[0m\n\u001b[1;32m   7577\u001b[0m \u001b[0;34m\u001b[0m\u001b[0m\n",
      "\u001b[0;31mValueError\u001b[0m: GetData: states not found."
     ]
    }
   ],
   "source": [
    "oebfname = '../simulation.oeb.gz'\n",
    "systag = oechem.OEGetTag('states')\n",
    "ifs = oechem.oemolistream(oebfname)\n",
    "for mol in ifs.GetOEMols():\n",
    "    data = mol.GetData(systag)\n",
    "    system = openmm.XmlSerializer.deserialize( data )\n",
    "    print(type(system))"
   ]
  },
  {
   "cell_type": "code",
   "execution_count": 92,
   "metadata": {
    "collapsed": false
   },
   "outputs": [
    {
     "name": "stdout",
     "output_type": "stream",
     "text": [
      "<class 'simtk.openmm.openmm.System'>\n"
     ]
    }
   ],
   "source": [
    "systag = oechem.OEGetTag('system')\n",
    "sys_check = oechem.OEHasTag('system')\n",
    "serialized_system =  mol.GetData(systag)\n",
    "system = openmm.XmlSerializer.deserialize( serialized_system )\n",
    "print(type(system))"
   ]
  },
  {
   "cell_type": "code",
   "execution_count": 46,
   "metadata": {
    "collapsed": false
   },
   "outputs": [
    {
     "name": "stdout",
     "output_type": "stream",
     "text": [
      "<oechem.OEMol; proxy of <Swig Object of type 'OEMolWrapper *' at 0x7fa1a64e3f00> >\n",
      "<class 'simtk.openmm.openmm.System'>\n",
      "<class 'simtk.openmm.openmm.State'>\n",
      "#\"Step\",\"Potential Energy (kJ/mole)\",\"Temperature (K)\"\n",
      "1000,-428542.16782426834,268.27374506936474\n",
      "2000,-415328.90217246115,292.01381518311763\n",
      "3000,-410227.29526019096,300.52425729114134\n",
      "4000,-410178.7364115864,296.1576736337405\n",
      "5000,-408896.961594522,300.5506400232759\n",
      "6000,-409723.38068178296,299.9514962746391\n",
      "7000,-410476.6667842157,299.47896456019174\n",
      "8000,-407904.6782325804,300.0447198094963\n",
      "9000,-409309.79629419,299.9292946386496\n",
      "10000,-409230.8660710901,301.3697347440811\n",
      "\n"
     ]
    }
   ],
   "source": [
    "oebfname = '../simulation.oeb.gz'\n",
    "systag = oechem.OEGetTag('system')\n",
    "statetag = oechem.OEGetTag('state')\n",
    "logtag = oechem.OEGetTag('log')\n",
    "ifs = oechem.oemolistream(oebfname)\n",
    "for mol in ifs.GetOEMols():\n",
    "    print(mol)\n",
    "    system = openmm.XmlSerializer.deserialize( mol.GetData(systag) )\n",
    "    print(type(system))\n",
    "    \n",
    "    state = openmm.XmlSerializer.deserialize( mol.GetData(statetag) )\n",
    "    print(type(state))\n",
    "    \n",
    "    log = mol.GetData(logtag)\n",
    "    print(log)\n",
    "    "
   ]
  }
 ],
 "metadata": {
  "anaconda-cloud": {},
  "kernelspec": {
   "display_name": "Python [default]",
   "language": "python",
   "name": "python3"
  },
  "language_info": {
   "codemirror_mode": {
    "name": "ipython",
    "version": 3
   },
   "file_extension": ".py",
   "mimetype": "text/x-python",
   "name": "python",
   "nbconvert_exporter": "python",
   "pygments_lexer": "ipython3",
   "version": "3.5.2"
  }
 },
 "nbformat": 4,
 "nbformat_minor": 1
}
